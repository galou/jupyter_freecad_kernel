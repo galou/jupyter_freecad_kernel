{
 "cells": [
  {
   "cell_type": "markdown",
   "metadata": {},
   "source": [
    "# FreeCAD + Sympy-Mechanics -> Rotating Box"
   ]
  },
  {
   "cell_type": "markdown",
   "metadata": {},
   "source": [
    "## Imports"
   ]
  },
  {
   "cell_type": "code",
   "execution_count": 2,
   "metadata": {
    "collapsed": false
   },
   "outputs": [],
   "source": [
    "from __future__ import division\n",
    "\n",
    "import FreeCAD as App\n",
    "\n",
    "import numpy as np\n",
    "np.set_printoptions(precision=3)\n",
    "\n",
    "import sympy\n",
    "from sympy.physics import mechanics\n",
    "sympy.init_printing()\n",
    "\n",
    "from pydy.codegen.ode_function_generators import generate_ode_function\n",
    "\n",
    "from scipy.integrate import odeint\n",
    "\n",
    "from matplotlib import pylab as plt\n",
    "plt.rcParams['figure.figsize'] = (20.0, 6.0)\n",
    "%matplotlib inline\n",
    "\n",
    "from PySide import QtCore\n",
    "import time"
   ]
  },
  {
   "cell_type": "markdown",
   "metadata": {},
   "source": [
    "## Helpers"
   ]
  },
  {
   "cell_type": "code",
   "execution_count": 3,
   "metadata": {
    "collapsed": true
   },
   "outputs": [],
   "source": [
    "def mat_to_np(mat):\n",
    "    elements = mat.A\n",
    "    return np.array([[elements[j * 4 + i] for i in range(4)] for j in range(4)])\n",
    "\n",
    "def np_to_mat(np_mat):\n",
    "    App.Matrix(*np_mat.flatten())\n",
    "\n",
    "def vec_to_np(vec):\n",
    "    return np.array(list(vec))"
   ]
  },
  {
   "cell_type": "markdown",
   "metadata": {},
   "source": [
    "## CAD input"
   ]
  },
  {
   "cell_type": "code",
   "execution_count": 4,
   "metadata": {
    "collapsed": false
   },
   "outputs": [],
   "source": [
    "rho = 7800 / 1000 ** 3\n",
    "document = App.getDocument(\"Rotating_Box_2\")"
   ]
  },
  {
   "cell_type": "code",
   "execution_count": 5,
   "metadata": {
    "collapsed": false
   },
   "outputs": [
    {
     "data": {
      "text/plain": [
       "array([ 5.,  5.,  5.])"
      ]
     },
     "execution_count": 5,
     "metadata": {},
     "output_type": "execute_result"
    }
   ],
   "source": [
    "box_1 = document.Box\n",
    "inert_1 = mat_to_np(box_1.Shape.MatrixOfInertia) * rho\n",
    "mass_1 = box_1.Shape.Volume * rho\n",
    "cog_1 = vec_to_np(box_1.Shape.CenterOfMass)\n",
    "width_1 = box_1.Width.Value\n",
    "cog_1"
   ]
  },
  {
   "cell_type": "code",
   "execution_count": 6,
   "metadata": {
    "collapsed": false
   },
   "outputs": [
    {
     "data": {
      "text/plain": [
       "array([ 15.,   5.,   5.])"
      ]
     },
     "execution_count": 6,
     "metadata": {},
     "output_type": "execute_result"
    }
   ],
   "source": [
    "box_2 = document.Box001\n",
    "inert_2 = mat_to_np(box_2.Shape.MatrixOfInertia) * rho\n",
    "inert_2 = inert_1\n",
    "mass_2 = box_2.Shape.Volume * rho\n",
    "cog_2 = vec_to_np(box_2.Shape.CenterOfMass)\n",
    "cog_2"
   ]
  },
  {
   "cell_type": "markdown",
   "metadata": {},
   "source": [
    "## Kinematic"
   ]
  },
  {
   "cell_type": "markdown",
   "metadata": {},
   "source": [
    "### Reference Frames"
   ]
  },
  {
   "cell_type": "code",
   "execution_count": 7,
   "metadata": {
    "collapsed": true
   },
   "outputs": [],
   "source": [
    "I = mechanics.ReferenceFrame(\"I\")\n",
    "R_11 = mechanics.ReferenceFrame(\"R_11\")\n",
    "R_12 = mechanics.ReferenceFrame(\"R_12\")\n",
    "B_1 = mechanics.ReferenceFrame(\"B_1\")\n",
    "R_21 = mechanics.ReferenceFrame(\"R_21\")\n",
    "R_22 = mechanics.ReferenceFrame(\"R_22\")\n",
    "B_2 = mechanics.ReferenceFrame(\"B_2\")"
   ]
  },
  {
   "cell_type": "code",
   "execution_count": 8,
   "metadata": {
    "collapsed": false
   },
   "outputs": [],
   "source": [
    "theta_1 = mechanics.dynamicsymbols(\"theta_1x theta_1y theta_1z\")\n",
    "theta_2 = mechanics.dynamicsymbols(\"theta_2x theta_2y theta_2z\")\n",
    "theta = theta_1 + theta_2\n",
    "omega_1 = mechanics.dynamicsymbols(\"omega_1x omega_1y omega_1z\")\n",
    "omega_2 = mechanics.dynamicsymbols(\"omega_2x omega_2y omega_2z\")\n",
    "omega = omega_1 + omega_2\n",
    "R_11.orient(I, \"Axis\", (theta_1[2], I.z))\n",
    "R_12.orient(R_11, \"Axis\", (theta_1[1], R_11.y))\n",
    "B_1.orient(R_12, \"Axis\", (theta_1[0], R_12.x))\n",
    "R_21.orient(I, \"Axis\", (theta_2[2], I.z))\n",
    "R_22.orient(R_21, \"Axis\", (theta_2[1], R_21.y))\n",
    "B_2.orient(R_22, \"Axis\", (theta_2[0], R_22.x))"
   ]
  },
  {
   "cell_type": "code",
   "execution_count": 9,
   "metadata": {
    "collapsed": false
   },
   "outputs": [],
   "source": [
    "R_11.set_ang_vel(I, omega_1[2] * I.z)\n",
    "R_12.set_ang_vel(R_11, omega_1[1] * R_11.y)\n",
    "B_1.set_ang_vel(R_12, omega_1[0] * R_12.x)\n",
    "R_21.set_ang_vel(I, omega_2[2] * I.z)\n",
    "R_22.set_ang_vel(R_21, omega_2[1] * R_21.y)\n",
    "B_2.set_ang_vel(R_22, omega_2[0] * R_22.x)"
   ]
  },
  {
   "cell_type": "code",
   "execution_count": 10,
   "metadata": {
    "collapsed": false
   },
   "outputs": [
    {
     "data": {
      "image/png": "[encoded data removed]",
      "text/latex": [
       "$$\\left[\\begin{matrix}5.0 \\sqrt{2} \\sin{\\left (\\theta_{1x}{\\left (t \\right )} + \\frac{\\pi}{4} \\right )} \\sin{\\left (\\theta_{1y}{\\left (t \\right )} \\right )} \\cos{\\left (\\theta_{1z}{\\left (t \\right )} \\right )} - 5.0 \\sqrt{2} \\sin{\\left (\\theta_{1z}{\\left (t \\right )} \\right )} \\cos{\\left (\\theta_{1x}{\\left (t \\right )} + \\frac{\\pi}{4} \\right )} + 5.0 \\cos{\\left (\\theta_{1y}{\\left (t \\right )} \\right )} \\cos{\\left (\\theta_{1z}{\\left (t \\right )} \\right )}\\\\5.0 \\sqrt{2} \\sin{\\left (\\theta_{1x}{\\left (t \\right )} + \\frac{\\pi}{4} \\right )} \\sin{\\left (\\theta_{1y}{\\left (t \\right )} \\right )} \\sin{\\left (\\theta_{1z}{\\left (t \\right )} \\right )} + 5.0 \\sin{\\left (\\theta_{1z}{\\left (t \\right )} \\right )} \\cos{\\left (\\theta_{1y}{\\left (t \\right )} \\right )} + 5.0 \\sqrt{2} \\cos{\\left (\\theta_{1x}{\\left (t \\right )} + \\frac{\\pi}{4} \\right )} \\cos{\\left (\\theta_{1z}{\\left (t \\right )} \\right )}\\\\5.0 \\sqrt{2} \\sin{\\left (\\theta_{1x}{\\left (t \\right )} + \\frac{\\pi}{4} \\right )} \\cos{\\left (\\theta_{1y}{\\left (t \\right )} \\right )} - 5.0 \\sin{\\left (\\theta_{1y}{\\left (t \\right )} \\right )}\\end{matrix}\\right]$$"
      ],
      "text/plain": [
       "⎡      ___    ⎛         π⎞                                         ___        \n",
       "⎢5.0⋅╲╱ 2 ⋅sin⎜θ₁ₓ(t) + ─⎟⋅sin(θ_1y(t))⋅cos(θ_1z(t)) - -5.0⋅(-1)⋅╲╱ 2 ⋅sin(θ_1\n",
       "⎢             ⎝         4⎠                                                    \n",
       "⎢                                                                             \n",
       "⎢         ___    ⎛         π⎞                                                 \n",
       "⎢   5.0⋅╲╱ 2 ⋅sin⎜θ₁ₓ(t) + ─⎟⋅sin(θ_1y(t))⋅sin(θ_1z(t)) + 5.0⋅sin(θ_1z(t))⋅cos\n",
       "⎢                ⎝         4⎠                                                 \n",
       "⎢                                                                             \n",
       "⎢                                       ___    ⎛         π⎞                   \n",
       "⎢                                 5.0⋅╲╱ 2 ⋅sin⎜θ₁ₓ(t) + ─⎟⋅cos(θ_1y(t)) - -5.\n",
       "⎣                                              ⎝         4⎠                   \n",
       "\n",
       "         ⎛         π⎞                                ⎤\n",
       "z(t))⋅cos⎜θ₁ₓ(t) + ─⎟ + 5.0⋅cos(θ_1y(t))⋅cos(θ_1z(t))⎥\n",
       "         ⎝         4⎠                                ⎥\n",
       "                                                     ⎥\n",
       "                  ___    ⎛         π⎞                ⎥\n",
       "(θ_1y(t)) + 5.0⋅╲╱ 2 ⋅cos⎜θ₁ₓ(t) + ─⎟⋅cos(θ_1z(t))   ⎥\n",
       "                         ⎝         4⎠                ⎥\n",
       "                                                     ⎥\n",
       "                                                     ⎥\n",
       "0⋅(-1)⋅sin(θ_1y(t))                                  ⎥\n",
       "                                                     ⎦"
      ]
     },
     "execution_count": 10,
     "metadata": {},
     "output_type": "execute_result"
    }
   ],
   "source": [
    "origin_1 = mechanics.Point(\"O_1\")\n",
    "origin_1.set_vel(I, 0)\n",
    "box_cog_1 = origin_1.locatenew(\"COG_1\", cog_1[0] * B_1.x + cog_1[1] * B_1.y + cog_1[2] * B_1.z)\n",
    "box_cog_1.v2pt_theory(origin_1, I, B_1)\n",
    "sympy.simplify(box_cog_1.pos_from(origin_1).to_matrix(I))"
   ]
  },
  {
   "cell_type": "code",
   "execution_count": 11,
   "metadata": {
    "collapsed": false
   },
   "outputs": [
    {
     "data": {
      "image/png": "[encoded data removed]",
      "text/latex": [
       "$$\\left[\\begin{matrix}10.0 \\cos{\\left (\\theta_{1y}{\\left (t \\right )} \\right )} \\cos{\\left (\\theta_{1z}{\\left (t \\right )} \\right )}\\\\10.0 \\sin{\\left (\\theta_{1z}{\\left (t \\right )} \\right )} \\cos{\\left (\\theta_{1y}{\\left (t \\right )} \\right )}\\\\- 10.0 \\sin{\\left (\\theta_{1y}{\\left (t \\right )} \\right )}\\end{matrix}\\right]$$"
      ],
      "text/plain": [
       "⎡10.0⋅cos(θ_1y(t))⋅cos(θ_1z(t))⎤\n",
       "⎢                              ⎥\n",
       "⎢10.0⋅sin(θ_1z(t))⋅cos(θ_1y(t))⎥\n",
       "⎢                              ⎥\n",
       "⎣      -10.0⋅sin(θ_1y(t))      ⎦"
      ]
     },
     "execution_count": 11,
     "metadata": {},
     "output_type": "execute_result"
    }
   ],
   "source": [
    "origin_2 = origin_1.locatenew(\"O_2\", width_1 * B_1.x)\n",
    "origin_2.v2pt_theory(origin_1, I, B_1)\n",
    "sympy.simplify(origin_2.pos_from(origin_1).to_matrix(I))"
   ]
  },
  {
   "cell_type": "code",
   "execution_count": 12,
   "metadata": {
    "collapsed": false
   },
   "outputs": [
    {
     "data": {
      "image/png": "[encoded data removed]",
      "text/latex": [
       "$$\\left[\\begin{matrix}5.0 \\sqrt{2} \\sin{\\left (\\theta_{2x}{\\left (t \\right )} + \\frac{\\pi}{4} \\right )} \\sin{\\left (\\theta_{2y}{\\left (t \\right )} \\right )} \\cos{\\left (\\theta_{2z}{\\left (t \\right )} \\right )} - 5.0 \\sqrt{2} \\sin{\\left (\\theta_{2z}{\\left (t \\right )} \\right )} \\cos{\\left (\\theta_{2x}{\\left (t \\right )} + \\frac{\\pi}{4} \\right )} + 10.0 \\cos{\\left (\\theta_{1y}{\\left (t \\right )} \\right )} \\cos{\\left (\\theta_{1z}{\\left (t \\right )} \\right )} + 15.0 \\cos{\\left (\\theta_{2y}{\\left (t \\right )} \\right )} \\cos{\\left (\\theta_{2z}{\\left (t \\right )} \\right )}\\\\5.0 \\sqrt{2} \\sin{\\left (\\theta_{2x}{\\left (t \\right )} + \\frac{\\pi}{4} \\right )} \\sin{\\left (\\theta_{2y}{\\left (t \\right )} \\right )} \\sin{\\left (\\theta_{2z}{\\left (t \\right )} \\right )} + 10.0 \\sin{\\left (\\theta_{1z}{\\left (t \\right )} \\right )} \\cos{\\left (\\theta_{1y}{\\left (t \\right )} \\right )} + 15.0 \\sin{\\left (\\theta_{2z}{\\left (t \\right )} \\right )} \\cos{\\left (\\theta_{2y}{\\left (t \\right )} \\right )} + 5.0 \\sqrt{2} \\cos{\\left (\\theta_{2x}{\\left (t \\right )} + \\frac{\\pi}{4} \\right )} \\cos{\\left (\\theta_{2z}{\\left (t \\right )} \\right )}\\\\5.0 \\sqrt{2} \\sin{\\left (\\theta_{2x}{\\left (t \\right )} + \\frac{\\pi}{4} \\right )} \\cos{\\left (\\theta_{2y}{\\left (t \\right )} \\right )} - 10.0 \\sin{\\left (\\theta_{1y}{\\left (t \\right )} \\right )} - 15.0 \\sin{\\left (\\theta_{2y}{\\left (t \\right )} \\right )}\\end{matrix}\\right]$$"
      ],
      "text/plain": [
       "⎡      ___    ⎛         π⎞                                         ___        \n",
       "⎢5.0⋅╲╱ 2 ⋅sin⎜θ₂ₓ(t) + ─⎟⋅sin(θ_2y(t))⋅cos(θ_2z(t)) - -5.0⋅(-1)⋅╲╱ 2 ⋅sin(θ_2\n",
       "⎢             ⎝         4⎠                                                    \n",
       "⎢                                                                             \n",
       "⎢         ___    ⎛         π⎞                                                 \n",
       "⎢   5.0⋅╲╱ 2 ⋅sin⎜θ₂ₓ(t) + ─⎟⋅sin(θ_2y(t))⋅sin(θ_2z(t)) + 10.0⋅sin(θ_1z(t))⋅co\n",
       "⎢                ⎝         4⎠                                                 \n",
       "⎢                                                                             \n",
       "⎢                                           ___    ⎛         π⎞               \n",
       "⎢                                     5.0⋅╲╱ 2 ⋅sin⎜θ₂ₓ(t) + ─⎟⋅cos(θ_2y(t)) -\n",
       "⎣                                                  ⎝         4⎠               \n",
       "\n",
       "         ⎛         π⎞                                                         \n",
       "z(t))⋅cos⎜θ₂ₓ(t) + ─⎟ + 10.0⋅cos(θ_1y(t))⋅cos(θ_1z(t)) + 15.0⋅cos(θ_2y(t))⋅cos\n",
       "         ⎝         4⎠                                                         \n",
       "                                                                              \n",
       "                                                    ___    ⎛         π⎞       \n",
       "s(θ_1y(t)) + 15.0⋅sin(θ_2z(t))⋅cos(θ_2y(t)) + 5.0⋅╲╱ 2 ⋅cos⎜θ₂ₓ(t) + ─⎟⋅cos(θ_\n",
       "                                                           ⎝         4⎠       \n",
       "                                                                              \n",
       "                                                                              \n",
       " -10.0⋅(-1)⋅sin(θ_1y(t)) - -15.0⋅(-1)⋅sin(θ_2y(t))                            \n",
       "                                                                              \n",
       "\n",
       "         ⎤\n",
       "(θ_2z(t))⎥\n",
       "         ⎥\n",
       "         ⎥\n",
       "         ⎥\n",
       "2z(t))   ⎥\n",
       "         ⎥\n",
       "         ⎥\n",
       "         ⎥\n",
       "         ⎥\n",
       "         ⎦"
      ]
     },
     "execution_count": 12,
     "metadata": {},
     "output_type": "execute_result"
    }
   ],
   "source": [
    "box_cog_2 = origin_2.locatenew(\"COG_2\", cog_2[0] * B_2.x + cog_2[1] * B_2.y + cog_2[2] * B_2.z)\n",
    "box_cog_2.v2pt_theory(origin_2, I, B_2)\n",
    "sympy.simplify(box_cog_2.pos_from(origin_1).to_matrix(I))"
   ]
  },
  {
   "cell_type": "markdown",
   "metadata": {},
   "source": [
    "## Inertia"
   ]
  },
  {
   "cell_type": "code",
   "execution_count": 13,
   "metadata": {
    "collapsed": false
   },
   "outputs": [],
   "source": [
    "inertia_1 = mechanics.inertia(B_1, inert_1[0, 0], inert_1[1, 1], inert_1[2, 2])\n",
    "inertia_2 = mechanics.inertia(B_2, inert_2[0, 0], inert_2[1, 1], inert_2[2, 2])"
   ]
  },
  {
   "cell_type": "code",
   "execution_count": 14,
   "metadata": {
    "collapsed": true
   },
   "outputs": [],
   "source": [
    "box_body_1 = mechanics.RigidBody(\"box_1\", box_cog_1, B_1, mass_1, (inertia_1, box_cog_1))\n",
    "box_body_2 = mechanics.RigidBody(\"box_2\", box_cog_2, B_2, mass_2, (inertia_2, box_cog_2))"
   ]
  },
  {
   "cell_type": "markdown",
   "metadata": {},
   "source": [
    "## Loads"
   ]
  },
  {
   "cell_type": "code",
   "execution_count": 15,
   "metadata": {
    "collapsed": false
   },
   "outputs": [],
   "source": [
    "g = 9.81\n",
    "mass_force_1 = -g * mass_1 * I.z\n",
    "mass_force_2 = -g * mass_2 * I.z\n",
    "forces = [(box_cog_1, mass_force_1),\n",
    "          (box_cog_2, mass_force_2)]"
   ]
  },
  {
   "cell_type": "markdown",
   "metadata": {},
   "source": [
    "## Equation"
   ]
  },
  {
   "cell_type": "code",
   "execution_count": 16,
   "metadata": {
    "collapsed": false
   },
   "outputs": [],
   "source": [
    "kin_diff = [om - thet.diff(\"t\") for om, thet in zip(omega, theta)]\n",
    "km = mechanics.KanesMethod(I, theta, omega, kin_diff)"
   ]
  },
  {
   "cell_type": "code",
   "execution_count": 17,
   "metadata": {
    "collapsed": true
   },
   "outputs": [],
   "source": [
    "fr, frstar = km.kanes_equations(forces, [box_body_1, box_body_2])\n",
    "force = km.forcing_full\n",
    "mass_matrix = km.mass_matrix_full"
   ]
  },
  {
   "cell_type": "code",
   "execution_count": 18,
   "metadata": {
    "collapsed": false
   },
   "outputs": [],
   "source": [
    "rhs = generate_ode_function(force, theta, omega, [], mass_matrix)"
   ]
  },
  {
   "cell_type": "markdown",
   "metadata": {},
   "source": [
    "## numerical solve/integrate the ode"
   ]
  },
  {
   "cell_type": "code",
   "execution_count": 19,
   "metadata": {
    "collapsed": false
   },
   "outputs": [],
   "source": [
    "x0 = np.zeros(12)\n",
    "t_end = 10\n",
    "fps = 24\n",
    "t = np.linspace(0, t_end, t_end * fps)\n",
    "y = odeint(rhs, x0, t, args=({},))"
   ]
  },
  {
   "cell_type": "code",
   "execution_count": 20,
   "metadata": {
    "collapsed": false,
    "scrolled": true
   },
   "outputs": [
    {
     "data": {
      "text/plain": [
       "<matplotlib.legend.Legend at 0x7fc7454377d0>"
      ]
     },
     "execution_count": 20,
     "metadata": {},
     "output_type": "execute_result"
    },
    {
     "data": {
      "image/png": "[encoded data removed]",
      "text/plain": [
       "<matplotlib.figure.Figure at 0x7fc745447dd0>"
      ]
     },
     "metadata": {},
     "output_type": "display_data"
    }
   ],
   "source": [
    "plt.grid()\n",
    "plt.plot(t, y[:,:6])\n",
    "plt.legend(theta)"
   ]
  },
  {
   "cell_type": "markdown",
   "metadata": {},
   "source": [
    "\n",
    "## Visualisation"
   ]
  },
  {
   "cell_type": "code",
   "execution_count": 21,
   "metadata": {
    "collapsed": true
   },
   "outputs": [],
   "source": [
    "def reset_position():\n",
    "    box_1.Placement.Rotation = App.Rotation(0, 0, 0)\n",
    "    box_2.Placement.Rotation = App.Rotation(0, 0, 0)\n",
    "    box_2.Placement.Base = App.Vector(width_1, 0, 0)"
   ]
  },
  {
   "cell_type": "code",
   "execution_count": 22,
   "metadata": {
    "collapsed": false
   },
   "outputs": [],
   "source": [
    "i = 0\n",
    "def update(*args):\n",
    "    global i\n",
    "    if i == len(y):\n",
    "        i = 0\n",
    "    origin_2_num = origin_2.pos_from(origin_1).to_matrix(I).subs(dict(zip(theta, y[i][:6])))\n",
    "    box_1.Placement.Rotation = App.Rotation(*np.rad2deg(y[i][:3][::-1]))\n",
    "    box_2.Placement.Base = App.Vector(0, 0, 0)\n",
    "    box_2.Placement.Rotation = App.Rotation(*np.rad2deg(y[i][3:6][::-1]))\n",
    "    box_2.Placement.Base = App.Vector(*origin_2_num)\n",
    "    i += 1"
   ]
  },
  {
   "cell_type": "code",
   "execution_count": 25,
   "metadata": {
    "collapsed": true
   },
   "outputs": [],
   "source": [
    "timer = QtCore.QTimer()\n",
    "timer.setInterval(1000 * 1 / fps)\n",
    "timer.timeout.connect(update)\n",
    "timer.start()"
   ]
  },
  {
   "cell_type": "code",
   "execution_count": 24,
   "metadata": {
    "collapsed": false
   },
   "outputs": [],
   "source": [
    "timer.stop()\n",
    "reset_position()\n",
    "del(timer)"
   ]
  },
  {
   "cell_type": "code",
   "execution_count": null,
   "metadata": {
    "collapsed": true
   },
   "outputs": [],
   "source": []
  }
 ],
 "metadata": {
  "kernelspec": {
   "display_name": "FreeCAD",
   "language": "python",
   "name": "freecad_kernel"
  },
  "language_info": {
   "codemirror_mode": {
    "name": "ipython",
    "version": 2
   },
   "file_extension": ".py",
   "mimetype": "text/x-python",
   "name": "python",
   "nbconvert_exporter": "python",
   "pygments_lexer": "ipython2",
   "version": "2.7.10"
  }
 },
 "nbformat": 4,
 "nbformat_minor": 0
}
