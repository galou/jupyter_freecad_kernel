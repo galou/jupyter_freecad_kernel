{
 "cells": [
  {
   "cell_type": "markdown",
   "metadata": {},
   "source": [
    "# FreeCAD + Sympy-Mechanics -> Rotating Box"
   ]
  },
  {
   "cell_type": "markdown",
   "metadata": {},
   "source": [
    "## Imports"
   ]
  },
  {
   "cell_type": "code",
   "execution_count": 21,
   "metadata": {
    "collapsed": false
   },
   "outputs": [],
   "source": [
    "from __future__ import division\n",
    "\n",
    "import FreeCAD as App\n",
    "\n",
    "import numpy as np\n",
    "np.set_printoptions(precision=3)\n",
    "\n",
    "import sympy\n",
    "from sympy.physics import mechanics\n",
    "sympy.init_printing()\n",
    "\n",
    "from pydy.codegen.ode_function_generators import generate_ode_function\n",
    "\n",
    "from scipy.integrate import odeint\n",
    "\n",
    "from matplotlib import pylab as plt\n",
    "plt.rcParams['figure.figsize'] = (20.0, 6.0)\n",
    "%matplotlib inline\n",
    "\n",
    "from PySide import QtCore\n",
    "import time"
   ]
  },
  {
   "cell_type": "markdown",
   "metadata": {},
   "source": [
    "## Helpers"
   ]
  },
  {
   "cell_type": "code",
   "execution_count": 22,
   "metadata": {
    "collapsed": true
   },
   "outputs": [],
   "source": [
    "def mat_to_np(mat):\n",
    "    elements = mat.A\n",
    "    return np.array([[elements[j * 4 + i] for i in range(4)] for j in range(4)])\n",
    "\n",
    "def np_to_mat(np_mat):\n",
    "    App.Matrix(*np_mat.flatten())\n",
    "\n",
    "def vec_to_np(vec):\n",
    "    return np.array(list(vec))"
   ]
  },
  {
   "cell_type": "markdown",
   "metadata": {},
   "source": [
    "## CAD input"
   ]
  },
  {
   "cell_type": "code",
   "execution_count": 23,
   "metadata": {
    "collapsed": false
   },
   "outputs": [
    {
     "data": {
      "text/plain": [
       "array([ 5. ,  5. ,  0.5])"
      ]
     },
     "execution_count": 23,
     "metadata": {},
     "output_type": "execute_result"
    }
   ],
   "source": [
    "rho = 7800 / 1000 ** 3\n",
    "document = App.getDocument(\"RotationBox1\")\n",
    "box = document.Box\n",
    "inert = mat_to_np(box.Shape.MatrixOfInertia) * rho\n",
    "mass = box.Shape.Volume * rho\n",
    "cog = vec_to_np(box.Shape.CenterOfMass)\n",
    "cog"
   ]
  },
  {
   "cell_type": "markdown",
   "metadata": {},
   "source": [
    "## Kinematic"
   ]
  },
  {
   "cell_type": "markdown",
   "metadata": {},
   "source": [
    "### Reference Frames"
   ]
  },
  {
   "cell_type": "code",
   "execution_count": 24,
   "metadata": {
    "collapsed": true
   },
   "outputs": [],
   "source": [
    "I = mechanics.ReferenceFrame(\"I\")\n",
    "R1 = mechanics.ReferenceFrame(\"R1\")\n",
    "R2 = mechanics.ReferenceFrame(\"R2\")\n",
    "B = mechanics.ReferenceFrame(\"B\")"
   ]
  },
  {
   "cell_type": "code",
   "execution_count": 25,
   "metadata": {
    "collapsed": false
   },
   "outputs": [],
   "source": [
    "theta_x, theta_y, theta_z = mechanics.dynamicsymbols(\"theta_x theta_y theta_z\")\n",
    "theta = [theta_x, theta_y, theta_z]\n",
    "omega_x, omega_y, omega_z = mechanics.dynamicsymbols(\"omega_x omega_y omega_z\")\n",
    "omega = [omega_x, omega_y, omega_z]\n",
    "R1.orient(I, \"Axis\", (theta_z, I.z))\n",
    "R2.orient(R1, \"Axis\", (theta_y, R1.y))\n",
    "B.orient(R2, \"Axis\", (theta_x, R2.x))"
   ]
  },
  {
   "cell_type": "code",
   "execution_count": 26,
   "metadata": {
    "collapsed": false
   },
   "outputs": [],
   "source": [
    "R1.set_ang_vel(I, omega_z * I.z)\n",
    "R2.set_ang_vel(R1, omega_y * R1.y)\n",
    "B.set_ang_vel(R2, omega_x * R2.x)"
   ]
  },
  {
   "cell_type": "code",
   "execution_count": 27,
   "metadata": {
    "collapsed": false
   },
   "outputs": [
    {
     "data": {
      "image/png": "[encoded data removed]",
      "text/latex": [
       "$$\\left[\\begin{matrix}5.0 \\sin{\\left (\\theta_{x}{\\left (t \\right )} \\right )} \\sin{\\left (\\theta_{y}{\\left (t \\right )} \\right )} \\cos{\\left (\\theta_{z}{\\left (t \\right )} \\right )} + 0.5 \\sin{\\left (\\theta_{x}{\\left (t \\right )} \\right )} \\sin{\\left (\\theta_{z}{\\left (t \\right )} \\right )} + 0.5 \\sin{\\left (\\theta_{y}{\\left (t \\right )} \\right )} \\cos{\\left (\\theta_{x}{\\left (t \\right )} \\right )} \\cos{\\left (\\theta_{z}{\\left (t \\right )} \\right )} - 5.0 \\sin{\\left (\\theta_{z}{\\left (t \\right )} \\right )} \\cos{\\left (\\theta_{x}{\\left (t \\right )} \\right )} + 5.0 \\cos{\\left (\\theta_{y}{\\left (t \\right )} \\right )} \\cos{\\left (\\theta_{z}{\\left (t \\right )} \\right )}\\\\5.0 \\sin{\\left (\\theta_{x}{\\left (t \\right )} \\right )} \\sin{\\left (\\theta_{y}{\\left (t \\right )} \\right )} \\sin{\\left (\\theta_{z}{\\left (t \\right )} \\right )} - 0.5 \\sin{\\left (\\theta_{x}{\\left (t \\right )} \\right )} \\cos{\\left (\\theta_{z}{\\left (t \\right )} \\right )} + 0.5 \\sin{\\left (\\theta_{y}{\\left (t \\right )} \\right )} \\sin{\\left (\\theta_{z}{\\left (t \\right )} \\right )} \\cos{\\left (\\theta_{x}{\\left (t \\right )} \\right )} + 5.0 \\sin{\\left (\\theta_{z}{\\left (t \\right )} \\right )} \\cos{\\left (\\theta_{y}{\\left (t \\right )} \\right )} + 5.0 \\cos{\\left (\\theta_{x}{\\left (t \\right )} \\right )} \\cos{\\left (\\theta_{z}{\\left (t \\right )} \\right )}\\\\5.0 \\sin{\\left (\\theta_{x}{\\left (t \\right )} \\right )} \\cos{\\left (\\theta_{y}{\\left (t \\right )} \\right )} - 5.0 \\sin{\\left (\\theta_{y}{\\left (t \\right )} \\right )} + 0.5 \\cos{\\left (\\theta_{x}{\\left (t \\right )} \\right )} \\cos{\\left (\\theta_{y}{\\left (t \\right )} \\right )}\\end{matrix}\\right]$$"
      ],
      "text/plain": [
       "⎡5.0⋅sin(θₓ(t))⋅sin(θ_y(t))⋅cos(θ_z(t)) + 0.5⋅sin(θₓ(t))⋅sin(θ_z(t)) + 0.5⋅sin\n",
       "⎢                                                                             \n",
       "⎢ 5.0⋅sin(θₓ(t))⋅sin(θ_y(t))⋅sin(θ_z(t)) - - -0.5⋅sin(θₓ(t))⋅cos(θ_z(t)) + 0.5\n",
       "⎢                                                                             \n",
       "⎣                                               5.0⋅sin(θₓ(t))⋅cos(θ_y(t)) - -\n",
       "\n",
       "(θ_y(t))⋅cos(θₓ(t))⋅cos(θ_z(t)) - -5.0⋅(-1)⋅sin(θ_z(t))⋅cos(θₓ(t)) + 5.0⋅cos(θ\n",
       "                                                                              \n",
       "⋅sin(θ_y(t))⋅sin(θ_z(t))⋅cos(θₓ(t)) + 5.0⋅sin(θ_z(t))⋅cos(θ_y(t)) + 5.0⋅cos(θₓ\n",
       "                                                                              \n",
       "5.0⋅(-1)⋅sin(θ_y(t)) + 0.5⋅cos(θₓ(t))⋅cos(θ_y(t))                             \n",
       "\n",
       "_y(t))⋅cos(θ_z(t))⎤\n",
       "                  ⎥\n",
       "(t))⋅cos(θ_z(t))  ⎥\n",
       "                  ⎥\n",
       "                  ⎦"
      ]
     },
     "execution_count": 27,
     "metadata": {},
     "output_type": "execute_result"
    }
   ],
   "source": [
    "O = mechanics.Point(\"O\")\n",
    "box_cog = mechanics.Point(\"P\")\n",
    "O.set_vel(I, 0)\n",
    "box_cog.set_pos(O, cog[0] * B.x + cog[1] * B.y + cog[2] * B.z)\n",
    "box_cog.v2pt_theory(O, I, B)\n",
    "sympy.simplify(box_cog.pos_from(O).to_matrix(I))"
   ]
  },
  {
   "cell_type": "markdown",
   "metadata": {},
   "source": [
    "## Inertia"
   ]
  },
  {
   "cell_type": "code",
   "execution_count": 28,
   "metadata": {
    "collapsed": false
   },
   "outputs": [],
   "source": [
    "inertia = mechanics.inertia(B, inert[0, 0], inert[1, 1], inert[2, 2])\n",
    "box_body = mechanics.RigidBody(\"box\", box_cog, B, mass, (inertia, box_cog))"
   ]
  },
  {
   "cell_type": "markdown",
   "metadata": {},
   "source": [
    "## Loads"
   ]
  },
  {
   "cell_type": "code",
   "execution_count": 29,
   "metadata": {
    "collapsed": false
   },
   "outputs": [],
   "source": [
    "g = 9.81\n",
    "mass_force = -g * mass * I.z"
   ]
  },
  {
   "cell_type": "markdown",
   "metadata": {},
   "source": [
    "## Equation"
   ]
  },
  {
   "cell_type": "code",
   "execution_count": 30,
   "metadata": {
    "collapsed": false
   },
   "outputs": [],
   "source": [
    "kin_diff = [omega_x - theta_x.diff(\"t\"),\n",
    "            omega_y - theta_y.diff(\"t\"),\n",
    "            omega_z - theta_z.diff(\"t\")]\n",
    "km = mechanics.KanesMethod(I, theta, omega, kin_diff)\n",
    "fr, frstar = km.kanes_equations([(box_cog, mass_force)], [box_body])\n",
    "force = km.forcing_full\n",
    "mass_matrix = km.mass_matrix_full"
   ]
  },
  {
   "cell_type": "code",
   "execution_count": 31,
   "metadata": {
    "collapsed": false
   },
   "outputs": [],
   "source": [
    "rhs = generate_ode_function(force, theta, omega, [], mass_matrix)\n",
    "x0 = np.array([0,0,0,0,0,0])\n",
    "t_end = 150\n",
    "fps = 24\n",
    "t = np.linspace(0, t_end, t_end * fps)"
   ]
  },
  {
   "cell_type": "code",
   "execution_count": 32,
   "metadata": {
    "collapsed": false
   },
   "outputs": [
    {
     "data": {
      "text/plain": [
       "<matplotlib.legend.Legend at 0x7f23a24cf750>"
      ]
     },
     "execution_count": 32,
     "metadata": {},
     "output_type": "execute_result"
    },
    {
     "data": {
      "image/png": "[encoded data removed]",
      "text/plain": [
       "<matplotlib.figure.Figure at 0x7f23c843e6d0>"
      ]
     },
     "metadata": {},
     "output_type": "display_data"
    }
   ],
   "source": [
    "y = odeint(rhs, x0, t, args=({},))\n",
    "plt.grid()\n",
    "plt.plot(y[:,:3])\n",
    "plt.legend([\"$\\\\theta_x$\", \"$\\\\theta_y$\", \"$\\\\theta_z$\"])"
   ]
  },
  {
   "cell_type": "markdown",
   "metadata": {},
   "source": [
    "\n",
    "## Visualisation"
   ]
  },
  {
   "cell_type": "code",
   "execution_count": 33,
   "metadata": {
    "collapsed": false
   },
   "outputs": [],
   "source": [
    "i = 0\n",
    "def update(*args):\n",
    "    global i\n",
    "    if i == len(y):\n",
    "        i = 0\n",
    "    box.Placement.Rotation = App.Rotation(*np.rad2deg(y[i][:3][::-1]))\n",
    "    i += 1"
   ]
  },
  {
   "cell_type": "code",
   "execution_count": 34,
   "metadata": {
    "collapsed": true
   },
   "outputs": [],
   "source": [
    "timer = QtCore.QTimer()\n",
    "timer.setInterval(200 * 1 / fps)\n",
    "timer.timeout.connect(update)\n",
    "timer.start()"
   ]
  },
  {
   "cell_type": "code",
   "execution_count": 35,
   "metadata": {
    "collapsed": false
   },
   "outputs": [],
   "source": [
    "timer.stop()\n",
    "del(timer)\n",
    "box.Placement.Rotation = App.Rotation(0, 0, 0)"
   ]
  },
  {
   "cell_type": "code",
   "execution_count": null,
   "metadata": {
    "collapsed": true
   },
   "outputs": [],
   "source": []
  }
 ],
 "metadata": {
  "kernelspec": {
   "display_name": "FreeCAD",
   "language": "python",
   "name": "freecad_kernel"
  },
  "language_info": {
   "codemirror_mode": {
    "name": "ipython",
    "version": 2
   },
   "file_extension": ".py",
   "mimetype": "text/x-python",
   "name": "python",
   "nbconvert_exporter": "python",
   "pygments_lexer": "ipython2",
   "version": "2.7.6"
  }
 },
 "nbformat": 4,
 "nbformat_minor": 0
}
