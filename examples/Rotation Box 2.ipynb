{
 "cells": [
  {
   "cell_type": "markdown",
   "metadata": {},
   "source": [
    "# FreeCAD + Sympy-Mechanics -> Rotating Box"
   ]
  },
  {
   "cell_type": "markdown",
   "metadata": {},
   "source": [
    "## Imports"
   ]
  },
  {
   "cell_type": "code",
   "execution_count": 2,
   "metadata": {
    "collapsed": false
   },
   "outputs": [],
   "source": [
    "from __future__ import division\n",
    "\n",
    "import FreeCAD as App\n",
    "\n",
    "import numpy as np\n",
    "np.set_printoptions(precision=3)\n",
    "\n",
    "import sympy\n",
    "from sympy.physics import mechanics\n",
    "sympy.init_printing()\n",
    "\n",
    "from pydy.codegen.ode_function_generators import generate_ode_function\n",
    "\n",
    "from scipy.integrate import odeint\n",
    "\n",
    "from matplotlib import pylab as plt\n",
    "plt.rcParams['figure.figsize'] = (20.0, 6.0)\n",
    "%matplotlib inline\n",
    "\n",
    "from PyQt4 import QtCore\n",
    "import time"
   ]
  },
  {
   "cell_type": "markdown",
   "metadata": {},
   "source": [
    "## Helpers"
   ]
  },
  {
   "cell_type": "code",
   "execution_count": 3,
   "metadata": {
    "collapsed": true
   },
   "outputs": [],
   "source": [
    "def mat_to_np(mat):\n",
    "    elements = mat.A\n",
    "    return np.array([[elements[j * 4 + i] for i in range(4)] for j in range(4)])\n",
    "\n",
    "def np_to_mat(np_mat):\n",
    "    App.Matrix(*np_mat.flatten())\n",
    "\n",
    "def vec_to_np(vec):\n",
    "    return np.array(list(vec))"
   ]
  },
  {
   "cell_type": "markdown",
   "metadata": {},
   "source": [
    "## CAD input"
   ]
  },
  {
   "cell_type": "code",
   "execution_count": 5,
   "metadata": {
    "collapsed": false
   },
   "outputs": [
    {
     "data": {
      "text/plain": [
       "array([ 5.,  5.,  5.])"
      ]
     },
     "execution_count": 5,
     "metadata": {},
     "output_type": "execute_result"
    }
   ],
   "source": [
    "rho = 7800 / 1000 ** 3\n",
    "document = App.getDocument(\"Rotating_Box\")\n",
    "box = document.Box\n",
    "inert = mat_to_np(box.Shape.MatrixOfInertia) * rho\n",
    "mass = box.Shape.Volume * rho\n",
    "cog = vec_to_np(box.Shape.CenterOfMass)\n",
    "cog"
   ]
  },
  {
   "cell_type": "markdown",
   "metadata": {},
   "source": [
    "## Kinematic"
   ]
  },
  {
   "cell_type": "markdown",
   "metadata": {},
   "source": [
    "### Reference Frames"
   ]
  },
  {
   "cell_type": "code",
   "execution_count": 6,
   "metadata": {
    "collapsed": true
   },
   "outputs": [],
   "source": [
    "I = mechanics.ReferenceFrame(\"I\")\n",
    "R1 = mechanics.ReferenceFrame(\"R1\")\n",
    "B = mechanics.ReferenceFrame(\"B\")"
   ]
  },
  {
   "cell_type": "code",
   "execution_count": 7,
   "metadata": {
    "collapsed": false
   },
   "outputs": [],
   "source": [
    "theta_x, theta_y = mechanics.dynamicsymbols(\"theta_x theta_y\")\n",
    "omega_x, omega_y = mechanics.dynamicsymbols(\"omega_x omega_y\")\n",
    "R1.orient(I, \"Axis\", (theta_y, I.y))\n",
    "B.orient(R1, \"Axis\", (theta_x, R1.x))"
   ]
  },
  {
   "cell_type": "code",
   "execution_count": 79,
   "metadata": {
    "collapsed": false
   },
   "outputs": [],
   "source": [
    "R1.set_ang_vel(I, omega_y * R1.y)\n",
    "B.set_ang_vel(R1, omega_x * B.x)"
   ]
  },
  {
   "cell_type": "code",
   "execution_count": 80,
   "metadata": {
    "collapsed": false
   },
   "outputs": [
    {
     "data": {
      "image/png": "[encoded data removed]",
      "text/latex": [
       "$$0$$"
      ],
      "text/plain": [
       "0"
      ]
     },
     "execution_count": 80,
     "metadata": {},
     "output_type": "execute_result"
    }
   ],
   "source": [
    "O = mechanics.Point(\"O\")\n",
    "box_cog = mechanics.Point(\"P\")\n",
    "O.set_vel(I, 0)\n",
    "O.set_vel(R1, 0)\n",
    "O.set_vel(B, 0)\n",
    "box_cog.set_pos(O, cog[0] * B.x + cog[1] * B.y + cog[2] * B.z)\n",
    "box_cog.v2pt_theory(O, I, B)\n",
    "box_cog.v2pt_theory(O, R1, B)\n",
    "box_cog.v2pt_theory(O, B, B)"
   ]
  },
  {
   "cell_type": "code",
   "execution_count": 81,
   "metadata": {
    "collapsed": true
   },
   "outputs": [],
   "source": [
    "theta = [theta_x, theta_y]\n",
    "omega = [omega_x, omega_y]"
   ]
  },
  {
   "cell_type": "markdown",
   "metadata": {},
   "source": [
    "## Inertia"
   ]
  },
  {
   "cell_type": "code",
   "execution_count": 82,
   "metadata": {
    "collapsed": false
   },
   "outputs": [],
   "source": [
    "inertia = mechanics.inertia(B, inert[0, 0], inert[1, 1], inert[2, 2])\n",
    "box_body = mechanics.RigidBody(\"box\", box_cog, B, mass, (inertia, box_cog))"
   ]
  },
  {
   "cell_type": "markdown",
   "metadata": {},
   "source": [
    "## Loads"
   ]
  },
  {
   "cell_type": "code",
   "execution_count": 83,
   "metadata": {
    "collapsed": false
   },
   "outputs": [],
   "source": [
    "g = 9.81\n",
    "mass_force = -g * mass * I.z"
   ]
  },
  {
   "cell_type": "markdown",
   "metadata": {},
   "source": [
    "## Equation"
   ]
  },
  {
   "cell_type": "code",
   "execution_count": 84,
   "metadata": {
    "collapsed": false
   },
   "outputs": [
    {
     "data": {
      "image/png": "[encoded data removed]",
      "text/latex": [
       "$$\\left[\\begin{matrix}0 & \\sin{\\left (\\theta_{y}{\\left (t \\right )} \\right )} \\frac{d}{d t} \\theta_{x}{\\left (t \\right )} & \\frac{d}{d t} \\theta_{y}{\\left (t \\right )}\\\\- \\sin{\\left (\\theta_{y}{\\left (t \\right )} \\right )} \\frac{d}{d t} \\theta_{x}{\\left (t \\right )} & 0 & - \\cos{\\left (\\theta_{y}{\\left (t \\right )} \\right )} \\frac{d}{d t} \\theta_{x}{\\left (t \\right )}\\\\- \\frac{d}{d t} \\theta_{y}{\\left (t \\right )} & \\cos{\\left (\\theta_{y}{\\left (t \\right )} \\right )} \\frac{d}{d t} \\theta_{x}{\\left (t \\right )} & 0\\end{matrix}\\right]$$"
      ],
      "text/plain": [
       "⎡                                    d                d               ⎤\n",
       "⎢          0             sin(θ_y(t))⋅──(θₓ(t))        ──(θ_y(t))      ⎥\n",
       "⎢                                    dt               dt              ⎥\n",
       "⎢                                                                     ⎥\n",
       "⎢             d                                              d        ⎥\n",
       "⎢-sin(θ_y(t))⋅──(θₓ(t))            0            -cos(θ_y(t))⋅──(θₓ(t))⎥\n",
       "⎢             dt                                             dt       ⎥\n",
       "⎢                                                                     ⎥\n",
       "⎢      d                             d                                ⎥\n",
       "⎢     -──(θ_y(t))        cos(θ_y(t))⋅──(θₓ(t))            0           ⎥\n",
       "⎣      dt                            dt                               ⎦"
      ]
     },
     "execution_count": 84,
     "metadata": {},
     "output_type": "execute_result"
    }
   ],
   "source": [
    "mat = I.dcm(B)\n",
    "tilde_mat = sympy.simplify(mat.diff(\"t\") * mat.T)\n",
    "tilde_mat"
   ]
  },
  {
   "cell_type": "code",
   "execution_count": 85,
   "metadata": {
    "collapsed": false
   },
   "outputs": [],
   "source": [
    "kin_diff = [omega_x - tilde_mat[2, 1],\n",
    "            omega_z\n",
    "            omega_y - tilde_mat[0, 2]]\n",
    "km = mechanics.KanesMethod(I, theta, omega, kin_diff)\n",
    "fr, frstar = km.kanes_equations([(box_cog, mass_force)], [box_body])\n",
    "force = km.forcing_full\n",
    "mass_matrix = km.mass_matrix_full"
   ]
  },
  {
   "cell_type": "code",
   "execution_count": 76,
   "metadata": {
    "collapsed": false
   },
   "outputs": [
    {
     "data": {
      "image/png": "[encoded data removed]",
      "text/latex": [
       "$$\\left [ \\omega_{x}{\\left (t \\right )} - \\cos{\\left (\\theta_{y}{\\left (t \\right )} \\right )} \\frac{d}{d t} \\theta_{x}{\\left (t \\right )}, \\quad \\omega_{y}{\\left (t \\right )} - \\frac{d}{d t} \\theta_{y}{\\left (t \\right )}\\right ]$$"
      ],
      "text/plain": [
       "⎡                    d                   d         ⎤\n",
       "⎢ωₓ(t) - cos(θ_y(t))⋅──(θₓ(t)), ω_y(t) - ──(θ_y(t))⎥\n",
       "⎣                    dt                  dt        ⎦"
      ]
     },
     "execution_count": 76,
     "metadata": {},
     "output_type": "execute_result"
    }
   ],
   "source": [
    "kin_diff"
   ]
  },
  {
   "cell_type": "code",
   "execution_count": 93,
   "metadata": {
    "collapsed": false
   },
   "outputs": [],
   "source": [
    "rhs = generate_ode_function(force, theta, omega, [], mass_matrix)\n",
    "x0 = np.zeros(4)\n",
    "t = np.linspace(0, 1, 100)"
   ]
  },
  {
   "cell_type": "code",
   "execution_count": 94,
   "metadata": {
    "collapsed": false
   },
   "outputs": [
    {
     "data": {
      "text/plain": [
       "array([ 0.   ,  0.   , -0.535,  0.535])"
      ]
     },
     "execution_count": 94,
     "metadata": {},
     "output_type": "execute_result"
    }
   ],
   "source": [
    "rhs(x0, 0, {})"
   ]
  },
  {
   "cell_type": "code",
   "execution_count": 95,
   "metadata": {
    "collapsed": false
   },
   "outputs": [],
   "source": [
    "y = odeint(rhs, x0, t, args=({},))"
   ]
  },
  {
   "cell_type": "code",
   "execution_count": 96,
   "metadata": {
    "collapsed": false
   },
   "outputs": [
    {
     "data": {
      "text/plain": [
       "<matplotlib.legend.Legend at 0x7f70ec078650>"
      ]
     },
     "execution_count": 96,
     "metadata": {},
     "output_type": "execute_result"
    },
    {
     "data": {
      "image/png": "[encoded data removed]",
      "text/plain": [
       "<matplotlib.figure.Figure at 0x7f70ec059590>"
      ]
     },
     "metadata": {},
     "output_type": "display_data"
    }
   ],
   "source": [
    "plt.grid()\n",
    "plt.plot(y)\n",
    "plt.legend([\"$\\\\theta$\", \"$\\omega$\"])"
   ]
  },
  {
   "cell_type": "markdown",
   "metadata": {},
   "source": [
    "\n",
    "## Visualisation"
   ]
  },
  {
   "cell_type": "code",
   "execution_count": 198,
   "metadata": {
    "collapsed": false
   },
   "outputs": [],
   "source": [
    "i = 0\n",
    "def update(*args):\n",
    "    global i\n",
    "    if i == len(y):\n",
    "        i = 0\n",
    "    box.Placement.Rotation = App.Rotation(App.Vector(1, 0, 0), np.rad2deg(y[i][0]))\n",
    "    i += 1"
   ]
  },
  {
   "cell_type": "code",
   "execution_count": 193,
   "metadata": {
    "collapsed": true
   },
   "outputs": [],
   "source": [
    "timer = QtCore.QTimer()\n",
    "timer.setInterval(5)\n",
    "timer.timeout.connect(update)\n",
    "timer.start()"
   ]
  },
  {
   "cell_type": "code",
   "execution_count": 192,
   "metadata": {
    "collapsed": false
   },
   "outputs": [],
   "source": [
    "timer.stop()\n",
    "del(timer)"
   ]
  },
  {
   "cell_type": "code",
   "execution_count": null,
   "metadata": {
    "collapsed": false
   },
   "outputs": [],
   "source": []
  },
  {
   "cell_type": "code",
   "execution_count": null,
   "metadata": {
    "collapsed": true
   },
   "outputs": [],
   "source": []
  }
 ],
 "metadata": {
  "kernelspec": {
   "display_name": "FreeCAD",
   "language": "python",
   "name": "freecad_kernel"
  },
  "language_info": {
   "codemirror_mode": {
    "name": "ipython",
    "version": 2
   },
   "file_extension": ".py",
   "mimetype": "text/x-python",
   "name": "python",
   "nbconvert_exporter": "python",
   "pygments_lexer": "ipython2",
   "version": "2.7.10"
  }
 },
 "nbformat": 4,
 "nbformat_minor": 0
}
